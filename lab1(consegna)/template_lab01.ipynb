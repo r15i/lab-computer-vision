{
 "cells": [
  {
   "cell_type": "markdown",
   "metadata": {},
   "source": [
    "# Lab 01 - Histograms manipulations and Filtering\n",
    "\n",
    "Computer Vision 2023-24 (M. Caligiuri, P. Zanuttigh, F. Lincetto)\n",
    "\n",
    "In this lab you will explore two different topics:\n",
    "\n",
    "1. Histogram-based processing:\n",
    "    - Histogram equalization,\n",
    "    - Histogram matching;\n",
    "2. Filtering for denoising:\n",
    "    - Gaussian filter,\n",
    "    - Median filter,\n",
    "    - Bilateral filter.\n",
    "\n",
    "---"
   ]
  },
  {
   "cell_type": "markdown",
   "metadata": {},
   "source": [
    "## Import the necessary libraries"
   ]
  },
  {
   "cell_type": "code",
   "execution_count": null,
   "metadata": {},
   "outputs": [],
   "source": [
    "# Import the necessary packages\n",
    "import numpy as np\n",
    "import cv2 as cv\n",
    "from matplotlib import pyplot as plt"
   ]
  },
  {
   "cell_type": "markdown",
   "metadata": {},
   "source": [
    "---"
   ]
  },
  {
   "cell_type": "markdown",
   "metadata": {},
   "source": [
    "## Histogram equalization\n",
    "\n",
    "In this section you will have to perform the histogram equalization of the image `./data/barbecue.jpg`. Do that using first the **BGR** color space and then the **LAB** color space. You will see the difference in the results."
   ]
  },
  {
   "cell_type": "markdown",
   "metadata": {},
   "source": [
    "### Auxiliary functions\n",
    "\n",
    "Write here all the auxiliary functions you will need.\n",
    "More precisely you have to implement the following functions:\n",
    "- `calc_hist` -> given in input an image it will return a list containing the histogram of each channel,\n",
    "- `show_histogram` -> given in input the list of all the histograms of an image it will return an image containing the plot of the histograms of each channel side by side (use matplotlib to generate the plot than convert them to image using `cv2`),\n",
    "\n",
    "  ![hists_example](data/hists.png)\n",
    "- `img_hist` -> given in input an image and the correspondent list of histograms it will return the image with the histograms plotted on top of it (call `show_histogram`).\n",
    "\n",
    "  ![img_hist_example](data/img_hists.png)"
   ]
  },
  {
   "cell_type": "code",
   "execution_count": null,
   "metadata": {},
   "outputs": [],
   "source": [
    "# Define a function to compute the histogram of the image (channel by channel)\n",
    "def calc_hists(img: np.ndarray) -> list:\n",
    "    \"\"\"\n",
    "    Calculates the histogram of the image (channel by channel).\n",
    "\n",
    "    Args:\n",
    "        img (numpy.ndarray): image to calculate the histogram\n",
    "    \n",
    "    Returns:\n",
    "        list: list of histograms\n",
    "    \"\"\"\n",
    "\n",
    "    # Add your code here"
   ]
  },
  {
   "cell_type": "code",
   "execution_count": null,
   "metadata": {},
   "outputs": [],
   "source": [
    "# Define a function to plot together the three histograms of the image\n",
    "# (plot only one if it is grayscale)\n",
    "def show_histogram(hists: list) -> np.ndarray:\n",
    "    \"\"\"\n",
    "    Shows the histogram of the image.\n",
    "    \n",
    "    Args:\n",
    "        hists (list): list of histograms to plot\n",
    "\n",
    "    Returns:\n",
    "        img (numpy.ndarray): image containing the histograms\n",
    "     \"\"\"   \n",
    "   \n",
    "\n",
    "    # Add your code here to generate the matplotlib figurecontaining the histograms\n",
    "\n",
    "    # Convert figure to canvas\n",
    "    canvas = plt.get_current_fig_manager().canvas\n",
    "    plt.close()\n",
    "\n",
    "    # Render the canvas\n",
    "    canvas.draw()\n",
    "\n",
    "    # Convert canvas to image\n",
    "    img = np.frombuffer(canvas.buffer_rgba(), dtype='uint8')\n",
    "    img = img.reshape(canvas.get_width_height()[::-1] + (4,))\n",
    "\n",
    "    # Convert image to cv2 format\n",
    "    return cv.cvtColor(img, cv.COLOR_RGB2BGR)"
   ]
  },
  {
   "cell_type": "code",
   "execution_count": null,
   "metadata": {},
   "outputs": [],
   "source": [
    "# Define a function to fuse the histogram image with the original one\n",
    "def img_hist(img: np.ndarray, hists: list[np.ndarray], scaling_factor: float = 0.3) -> np.ndarray:\n",
    "    \"\"\"\n",
    "    Fuse the image with the histogram.\n",
    "    \n",
    "    Args:\n",
    "        img (np.ndarray): image\n",
    "        hist (list(np.ndarray)): histograms of the image\n",
    "        \n",
    "    Returns:\n",
    "        img (numpy.ndarray): image containing the original image with the histograms on top\n",
    "    \"\"\"\n",
    "    \n",
    "    # Add your code here"
   ]
  },
  {
   "cell_type": "markdown",
   "metadata": {},
   "source": [
    "### Equalize the image in the BGR space\n",
    "\n",
    "Equalize the image (`./data/barbecue.jpg`) in the BGR space and show the result."
   ]
  },
  {
   "cell_type": "code",
   "execution_count": null,
   "metadata": {},
   "outputs": [],
   "source": [
    "# Load image and and compute its histogram\n",
    "\n",
    "# Add your code here"
   ]
  },
  {
   "cell_type": "code",
   "execution_count": null,
   "metadata": {},
   "outputs": [],
   "source": [
    "# Show the image with its histogram before the equalization\n",
    "\n",
    "# Add your code here"
   ]
  },
  {
   "cell_type": "code",
   "execution_count": null,
   "metadata": {},
   "outputs": [],
   "source": [
    "# Equalize the histogram of the image\n",
    "\n",
    "# Add your code here\n",
    "\n",
    "\n",
    "# Show the image and the relative histogram (in the same window)\n",
    "\n",
    "# Add your code here"
   ]
  },
  {
   "cell_type": "markdown",
   "metadata": {},
   "source": [
    "### Equalize the image in the LAB space\n",
    "\n",
    "Equalize the image (`./data/barbecue.jpg`) in the LAB space and show the result."
   ]
  },
  {
   "cell_type": "code",
   "execution_count": null,
   "metadata": {},
   "outputs": [],
   "source": [
    "# Load the image and convert it to LAB colorspace\n",
    "\n",
    "# Add your code here"
   ]
  },
  {
   "cell_type": "code",
   "execution_count": null,
   "metadata": {},
   "outputs": [],
   "source": [
    "# Equalize the histogram of the L channel\n",
    "\n",
    "# Add your code here\n",
    "\n",
    "\n",
    "# Convert the image back to BGR colorspace\n",
    "\n",
    "# Add your code here\n",
    "\n",
    "\n",
    "# Extract the histograms for each channel\n",
    "\n",
    "# Add your code here"
   ]
  },
  {
   "cell_type": "code",
   "execution_count": null,
   "metadata": {},
   "outputs": [],
   "source": [
    "# Show the image and its relative histogram\n",
    "\n",
    "# Add your code here"
   ]
  },
  {
   "cell_type": "markdown",
   "metadata": {},
   "source": [
    "---"
   ]
  },
  {
   "cell_type": "markdown",
   "metadata": {},
   "source": [
    "## Histogram matching\n",
    "\n",
    "In this section you will have to perform the histogram matching of the image `./data/panorama_left.jpg` to the image `./data/panorama_right.jpg`. Do that in the **BGR** color space."
   ]
  },
  {
   "cell_type": "markdown",
   "metadata": {},
   "source": [
    "### Histogram matching function\n",
    "\n",
    "The function to perform the histogram matching is provided here. The function takes in input the image to be matched and the image to match and will return the matched image."
   ]
  },
  {
   "cell_type": "code",
   "execution_count": null,
   "metadata": {},
   "outputs": [],
   "source": [
    "#  function to perform the histogram matching\n",
    "def hist_match(source: np.ndarray, reference: np.ndarray) -> np.ndarray:\n",
    "    \"\"\"\n",
    "    Adjust the pixel values of a color image such that its histogram\n",
    "    matches that of a target one.\n",
    "\n",
    "    Args:\n",
    "        source (numpy.ndarray): Image to transform; the histogram is computed over the flattened array\n",
    "        reference (numpy.ndarray): Template image; can have different dimensions from source\n",
    "    Returns:\n",
    "        numpy.ndarray: The transformed output image\n",
    "    \"\"\"\n",
    "    \n",
    "     # Assert that the images have the same number of channels (grayscale or RGB) and the same dimensions\n",
    "    assert source.shape[2] == reference.shape[2], \"Images must have the same number of channels\"\n",
    "    assert source.shape[:2] == reference.shape[:2], \"Images must have the same dimensions\"\n",
    "\n",
    "    # Compute the source image's histogram and CDF\n",
    "    src_hists = [np.histogram(source[..., i].flatten(), 256, [0,256])[0] for i in range(source.shape[2])]\n",
    "    src_cdfs = [hist.cumsum() for hist in src_hists]\n",
    "    src_cdfs_normalized = [cdf / float(cdf.max()) for cdf in src_cdfs]\n",
    " \n",
    "    # Compute the reference image's histogram and CDF\n",
    "    ref_hists = [np.histogram(reference[..., i].flatten(), 256, [0,256])[0] for i in range(reference.shape[2])]\n",
    "    ref_cdfs = [hist.cumsum() for hist in ref_hists]\n",
    "    ref_cdfs_normalized = [cdf / float(cdf.max()) for cdf in ref_cdfs]\n",
    "\n",
    "    # Create a lookup table to map pixel values from the source to the reference\n",
    "    lookup_tables = [np.zeros(256) for _ in range(source.shape[2])]\n",
    "    lookup_values = [0] * source.shape[2]\n",
    "    for index in range(len(lookup_tables)):\n",
    "        for src_pixel_val in range(len(src_cdfs_normalized[index])):\n",
    "            lookup_values[index]\n",
    "            for ref_pixel_val in range(len(ref_cdfs_normalized[index])):\n",
    "                if ref_cdfs_normalized[index][ref_pixel_val] >= src_cdfs_normalized[index][src_pixel_val]:\n",
    "                    lookup_values[index] = ref_pixel_val\n",
    "                    break\n",
    "            lookup_tables[index][src_pixel_val] = lookup_values[index]\n",
    "\n",
    "    # Apply the lookup table to the source image\n",
    "    matched = np.stack([cv.LUT(source[..., i], lookup_tables[i]).astype(np.uint8) for i in range(len(lookup_tables))], axis=-1)\n",
    "\n",
    "    return matched"
   ]
  },
  {
   "cell_type": "markdown",
   "metadata": {},
   "source": [
    "### Match the images"
   ]
  },
  {
   "cell_type": "code",
   "execution_count": null,
   "metadata": {},
   "outputs": [],
   "source": [
    "# Load the two iamges\n",
    "\n",
    "# Add your code here"
   ]
  },
  {
   "cell_type": "code",
   "execution_count": null,
   "metadata": {},
   "outputs": [],
   "source": [
    "# Visualize the two images with the relative histograms\n",
    "# before the histogram matching\n",
    "\n",
    "# Add your code here"
   ]
  },
  {
   "cell_type": "code",
   "execution_count": null,
   "metadata": {},
   "outputs": [],
   "source": [
    "# Match the histograms of the two images\n",
    "\n",
    "# Add your code here\n",
    "\n",
    "\n",
    "# Visualize the two iamges with the relative histograms\n",
    "\n",
    "# Add your code here"
   ]
  },
  {
   "cell_type": "markdown",
   "metadata": {},
   "source": [
    "---"
   ]
  },
  {
   "cell_type": "markdown",
   "metadata": {},
   "source": [
    "## Image denoising\n",
    "\n",
    "In this section you will have to perform the denoising of the image ./data/overexposed.jpg. Do that using the following filters:\n",
    "\n",
    "    Gaussian filter,\n",
    "    Median filter,\n",
    "    Bilateral filter.\n",
    "\n",
    "For each filter you will have to try different values for the parameters in order to see the effect of each parameter on the result. To do that in an interactive way it is required that you implement the cv.trackbar function. In this way you will be able to change the parameters of the filters and to see the result in real time.\n",
    "\n",
    "In order to build a better code you have to implement each filter as a class (child of a main filter class called Filter). The structure to do this is already provided in this notebook"
   ]
  },
  {
   "cell_type": "markdown",
   "metadata": {},
   "source": [
    "### Define the filters classes"
   ]
  },
  {
   "cell_type": "code",
   "execution_count": null,
   "metadata": {},
   "outputs": [],
   "source": [
    "# Define the main Filter class with the common methods\n",
    "# (this class will be used as a base class for the other filters)\n",
    "class Filter:\n",
    "    def __init__(self, size: int):\n",
    "        # Constructor of the class\n",
    "        if size % 2 == 0:\n",
    "            size += 1\n",
    "        self.set_filter_size(size)\n",
    "    \n",
    "    def set_filter_size(self, size: int) -> None:\n",
    "        # Method to set the filter size\n",
    "        if size % 2 == 0:\n",
    "            size += 1\n",
    "        self.filter_size = size\n",
    "    \n",
    "    def get_filter_size(self) -> int:\n",
    "        # Method to get the filter size\n",
    "        return self.filter_size\n",
    "\n",
    "    def __call__(self, image: np.ndarray)) -> None:\n",
    "        # Method to perform the filtering\n",
    "        # (it must be implemented in the derived classes)\n",
    "        raise NotImplementedError"
   ]
  },
  {
   "cell_type": "code",
   "execution_count": null,
   "metadata": {},
   "outputs": [],
   "source": [
    "# Define the class for the gaussian filter\n",
    "class GaussianFilter(Filter):\n",
    "    def __init__(self, size: int, sigma_g: float):\n",
    "        super().__init__(size)\n",
    "        self.sigma = sigma_g\n",
    "\n",
    "    def set_sigma(self, s: float) -> None:\n",
    "        # Method to set the sigma value\n",
    "\n",
    "        # Add your code here (remove the pass statement)\n",
    "        pass\n",
    "\n",
    "    def get_sigma(self) -> float:\n",
    "        # Method to get the sigma value\n",
    "        \n",
    "        # Add your code here (remove the pass statement)\n",
    "        pass\n",
    "    \n",
    "    def __call__(self, image: np.ndarray, size: int, sigma: float) -> None:\n",
    "        # Method to call the filter (it is called when the object is called)\n",
    "        # This function will be called by the trackbar object and will update the imamge to show\n",
    "        \n",
    "        # Add your code here (remove the pass statement)\n",
    "        pass\n",
    "\n",
    "\n",
    "# Define the class for the median filter\n",
    "class MedianFilter(Filter):\n",
    "    def __init__(self, size: int):\n",
    "        super().__init__(size)\n",
    "\n",
    "    def __call__(self, image: np.ndarray, size: int) -> None:\n",
    "        # Method to call the filter (it is called when the object is called)\n",
    "        # This function will be called by the trackbar object and will update the image to show\n",
    "        \n",
    "        # Add your code here (remove the pass statement)\n",
    "        pass\n",
    "\n",
    "\n",
    "# Define the class for the bilateral filter\n",
    "class BilateralFilter(Filter):\n",
    "    def __init__(self, size: int, sigma_s: float, sigma_r: float):\n",
    "        super().__init__(size)\n",
    "        self.sigma_space = sigma_s\n",
    "        self.sigma_range = sigma_r\n",
    "\n",
    "    def set_sigma_range(self, sr: float) -> None:\n",
    "        # Method to set the sigma range value\n",
    "\n",
    "        # Add your code here (remove the pass statement)\n",
    "        pass\n",
    "\n",
    "    def get_sigma_range(self) -> float:\n",
    "        # Method to get the sigma range value\n",
    "        \n",
    "        # Add your code here (remove the pass statement)\n",
    "        pass\n",
    "\n",
    "    def set_sigma_space(self, ss: float) -> None:\n",
    "        # Method to set the sigma space value\n",
    "\n",
    "        # Add your code here (remove the pass statement)\n",
    "        pass\n",
    "\n",
    "    def get_sigma_space(self) -> float:\n",
    "        # Method to get the sigma space value\n",
    "        \n",
    "        # Add your code here (remove the pass statement)\n",
    "        pass\n",
    "    \n",
    "    def __call__(self, image: np.ndarray, sigma_s: float, sigma_r: float) -> None:\n",
    "        # Method to call the filter (it is called when the object is called)\n",
    "        # This function will be called by the trackbar object and will update the imamge to show\n",
    "        \n",
    "        # Add your code here (remove the pass statement)\n",
    "        pass"
   ]
  },
  {
   "cell_type": "markdown",
   "metadata": {},
   "source": [
    "### Load the image and initialize the filters objects"
   ]
  },
  {
   "cell_type": "code",
   "execution_count": null,
   "metadata": {},
   "outputs": [],
   "source": [
    "# Load and show the image to filter\n",
    "\n",
    "# Add your code here"
   ]
  },
  {
   "cell_type": "code",
   "execution_count": null,
   "metadata": {},
   "outputs": [],
   "source": [
    "# Initialize the filters\n",
    "\n",
    "# Add your code here"
   ]
  },
  {
   "cell_type": "markdown",
   "metadata": {},
   "source": [
    "### Test the filters"
   ]
  },
  {
   "cell_type": "code",
   "execution_count": null,
   "metadata": {},
   "outputs": [],
   "source": [
    "# MEDIAN BLUR FILTER\n",
    "\n",
    "\n",
    "# Create a window for the trackbars\n",
    "\n",
    "# Add your code here\n",
    "\n",
    "\n",
    "# Create the trackbar\n",
    "\n",
    "# Add your code here\n",
    "\n",
    "\n",
    "# Show the filtered image with a slider to change the kernel size\n",
    "\n",
    "# Add your code here"
   ]
  },
  {
   "cell_type": "code",
   "execution_count": null,
   "metadata": {},
   "outputs": [],
   "source": [
    "# GAUSSIAN BLUR FILTER\n",
    "\n",
    "\n",
    "# Create a window for the trackbars\n",
    "\n",
    "# Add your code here\n",
    "\n",
    "\n",
    "# Create the trackbar\n",
    "\n",
    "# Add your code here\n",
    "\n",
    "\n",
    "# Show the filtered image with a slider to change the kernel size\n",
    "\n",
    "# Add your code here"
   ]
  },
  {
   "cell_type": "code",
   "execution_count": null,
   "metadata": {},
   "outputs": [],
   "source": [
    "# BILATERAL FILTER\n",
    "\n",
    "\n",
    "# Create a window for the trackbars\n",
    "\n",
    "# Add your code here\n",
    "\n",
    "\n",
    "# Create the trackbar\n",
    "\n",
    "\n",
    "\n",
    "\n",
    "# Show the filtered image with a slider to change the kernel size\n",
    "\n",
    "# Add your code here"
   ]
  }
 ],
 "metadata": {
  "kernelspec": {
   "display_name": "Python 3",
   "language": "python",
   "name": "python3"
  },
  "language_info": {
   "codemirror_mode": {
    "name": "ipython",
    "version": 3
   },
   "file_extension": ".py",
   "mimetype": "text/x-python",
   "name": "python",
   "nbconvert_exporter": "python",
   "pygments_lexer": "ipython3",
   "version": "3.8.8"
  }
 },
 "nbformat": 4,
 "nbformat_minor": 4
}
