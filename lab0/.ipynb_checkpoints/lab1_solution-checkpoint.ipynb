{
 "cells": [
  {
   "cell_type": "code",
   "execution_count": 1,
   "metadata": {},
   "outputs": [],
   "source": [
    "import numpy as np\n",
    "import cv2 as cv"
   ]
  },
  {
   "cell_type": "code",
   "execution_count": 2,
   "metadata": {},
   "outputs": [
    {
     "ename": "error",
     "evalue": "OpenCV(4.7.0) D:\\a\\opencv-python\\opencv-python\\opencv\\modules\\highgui\\src\\window.cpp:971: error: (-215:Assertion failed) size.width>0 && size.height>0 in function 'cv::imshow'\n",
     "output_type": "error",
     "traceback": [
      "\u001b[1;31m---------------------------------------------------------------------------\u001b[0m",
      "\u001b[1;31merror\u001b[0m                                     Traceback (most recent call last)",
      "\u001b[1;32mc:\\Users\\Emilio\\Desktop\\lab computer vision\\lab0\\.ipynb_checkpoints\\lab1_solution-checkpoint.ipynb Cell 2\u001b[0m line \u001b[0;36m3\n\u001b[0;32m      <a href='vscode-notebook-cell:/c%3A/Users/Emilio/Desktop/lab%20computer%20vision/lab0/.ipynb_checkpoints/lab1_solution-checkpoint.ipynb#W1sZmlsZQ%3D%3D?line=0'>1</a>\u001b[0m \u001b[39m# Load image and show it\u001b[39;00m\n\u001b[0;32m      <a href='vscode-notebook-cell:/c%3A/Users/Emilio/Desktop/lab%20computer%20vision/lab0/.ipynb_checkpoints/lab1_solution-checkpoint.ipynb#W1sZmlsZQ%3D%3D?line=1'>2</a>\u001b[0m image \u001b[39m=\u001b[39m cv\u001b[39m.\u001b[39mimread(\u001b[39m'\u001b[39m\u001b[39m./data/unipd.jpg\u001b[39m\u001b[39m'\u001b[39m)\n\u001b[1;32m----> <a href='vscode-notebook-cell:/c%3A/Users/Emilio/Desktop/lab%20computer%20vision/lab0/.ipynb_checkpoints/lab1_solution-checkpoint.ipynb#W1sZmlsZQ%3D%3D?line=2'>3</a>\u001b[0m cv\u001b[39m.\u001b[39;49mimshow(\u001b[39m\"\u001b[39;49m\u001b[39mImage\u001b[39;49m\u001b[39m\"\u001b[39;49m, image)\n\u001b[0;32m      <a href='vscode-notebook-cell:/c%3A/Users/Emilio/Desktop/lab%20computer%20vision/lab0/.ipynb_checkpoints/lab1_solution-checkpoint.ipynb#W1sZmlsZQ%3D%3D?line=3'>4</a>\u001b[0m cv\u001b[39m.\u001b[39mwaitKey(\u001b[39m0\u001b[39m)\n\u001b[0;32m      <a href='vscode-notebook-cell:/c%3A/Users/Emilio/Desktop/lab%20computer%20vision/lab0/.ipynb_checkpoints/lab1_solution-checkpoint.ipynb#W1sZmlsZQ%3D%3D?line=4'>5</a>\u001b[0m cv\u001b[39m.\u001b[39mdestroyAllWindows()\n",
      "\u001b[1;31merror\u001b[0m: OpenCV(4.7.0) D:\\a\\opencv-python\\opencv-python\\opencv\\modules\\highgui\\src\\window.cpp:971: error: (-215:Assertion failed) size.width>0 && size.height>0 in function 'cv::imshow'\n"
     ]
    }
   ],
   "source": [
    "# Load image and show it\n",
    "image = cv.imread('./data/unipd.jpg')\n",
    "cv.imshow(\"Image\", image)\n",
    "cv.waitKey(0)\n",
    "cv.destroyAllWindows()"
   ]
  },
  {
   "cell_type": "code",
   "execution_count": null,
   "metadata": {},
   "outputs": [],
   "source": [
    "# Define function to execute on mouse click\n",
    "def onClick_RGB(event, x, y, flag, image):\n",
    "    \n",
    "    neighborhood = 9\n",
    "    red_threshold = 35\n",
    "    green_threshold = 35\n",
    "    blue_threshold = 35\n",
    "    new_color = np.array([37, 201, 92])\n",
    "    \n",
    "    if event == cv.EVENT_LBUTTONDOWN:\n",
    "        \n",
    "        image_out = np.copy(image)\n",
    "        height, width, _ = image.shape\n",
    "\n",
    "        if (x+neighborhood > width or y+neighborhood > height) or (x-neighborhood < 0 or y-neighborhood < 0):\n",
    "            print(\"Out of boundaries!\")\n",
    "            return\n",
    "\n",
    "        patch = image[y-neighborhood : y+neighborhood, x-neighborhood : x+neighborhood]\n",
    "        mean = np.mean(patch, axis=(0,1))\n",
    "        print(\"Mean of the neighbors: \", mean)\n",
    "        \n",
    "        mask_blue = np.abs(image_out[..., 0] - mean[0]) < blue_threshold\n",
    "        mask_green = np.abs(image_out[..., 1] - mean[1]) < green_threshold\n",
    "        mask_red = np.abs(image_out[..., 2] - mean[2]) < red_threshold\n",
    "        mask = mask_blue * mask_green * mask_red\n",
    "        image_out[mask, :] = new_color\n",
    "        \n",
    "        cv.imshow(\"Output image\", image_out)\n"
   ]
  },
  {
   "cell_type": "code",
   "execution_count": null,
   "metadata": {},
   "outputs": [],
   "source": [
    "# Define function to execute on mouse click\n",
    "def onClick_LAB(event, x, y, flag, image):\n",
    "    \n",
    "    neighborhood = 9\n",
    "    threshold = 30\n",
    "    new_color = np.array([42, 42])\n",
    "    \n",
    "    if event == cv.EVENT_LBUTTONDOWN:\n",
    "        \n",
    "        image_out = cv.cvtColor(image, cv.COLOR_BGR2LAB)\n",
    "        height, width, _ = image.shape\n",
    "\n",
    "        if (x+neighborhood > width or y+neighborhood > height) or (x-neighborhood < 0 or y-neighborhood < 0):\n",
    "            print(\"Out of boundaries!\")\n",
    "            return\n",
    "\n",
    "        patch = image_out[y-neighborhood : y+neighborhood, x-neighborhood : x+neighborhood, :]\n",
    "        mean = np.mean(patch, axis=(0,1))\n",
    "        print(\"Mean of the neighbors: \", mean)\n",
    "        \n",
    "        mask = np.linalg.norm(image_out - mean, axis=-1) < threshold\n",
    "        image_out[mask, 1:] = new_color\n",
    "        \n",
    "        image_out = cv.cvtColor(image_out, cv.COLOR_LAB2BGR)\n",
    "        \n",
    "        cv.imshow(\"Output image\", image_out)\n"
   ]
  },
  {
   "cell_type": "code",
   "execution_count": null,
   "metadata": {},
   "outputs": [],
   "source": [
    "# Define function to execute on mouse click\n",
    "def onClick_AB(event, x, y, flag, image):\n",
    "    \n",
    "    neighborhood = 9\n",
    "    a_threshold = 25\n",
    "    b_threshold = 25\n",
    "    new_color = np.array([42, 42])\n",
    "    \n",
    "    if event == cv.EVENT_LBUTTONDOWN:\n",
    "        \n",
    "        image_out = cv.cvtColor(image, cv.COLOR_BGR2LAB)\n",
    "        height, width, _ = image.shape\n",
    "\n",
    "        if (x+neighborhood > width or y+neighborhood > height) or (x-neighborhood < 0 or y-neighborhood < 0):\n",
    "            print(\"Out of boundaries!\")\n",
    "            return\n",
    "\n",
    "        patch = image_out[y-neighborhood : y+neighborhood, x-neighborhood : x+neighborhood, 1:]\n",
    "        mean = np.mean(patch, axis=(0,1))\n",
    "        print(\"Mean of the neighbors: \", mean)\n",
    "        \n",
    "        mask_a = np.abs(image_out[..., 1] - mean[0]) < a_threshold\n",
    "        mask_b = np.abs(image_out[..., 2] - mean[1]) < b_threshold\n",
    "        mask = mask_a * mask_b\n",
    "        image_out[mask, 1:] = new_color\n",
    "        \n",
    "        image_out = cv.cvtColor(image_out, cv.COLOR_LAB2BGR)\n",
    "        \n",
    "        cv.imshow(\"Output image\", image_out)\n"
   ]
  },
  {
   "cell_type": "code",
   "execution_count": null,
   "metadata": {},
   "outputs": [
    {
     "name": "stdout",
     "output_type": "stream",
     "text": [
      "Mean of the neighbors:  [118.24074074 101.29320988 225.73148148]\n",
      "Mean of the neighbors:  [118.24074074 101.29320988 225.73148148]\n"
     ]
    }
   ],
   "source": [
    "# RGB version\n",
    "# Set mouse callback\n",
    "cv.namedWindow(\"Image\")\n",
    "cv.setMouseCallback(\"Image\", onClick_RGB, image)\n",
    "cv.imshow(\"Image\", image)\n",
    "cv.waitKey(0)\n",
    "cv.destroyAllWindows()"
   ]
  },
  {
   "cell_type": "code",
   "execution_count": null,
   "metadata": {},
   "outputs": [
    {
     "name": "stdout",
     "output_type": "stream",
     "text": [
      "Mean of the neighbors:  [149.95987654 177.90123457 142.60185185]\n",
      "Mean of the neighbors:  [149.95987654 177.90123457 142.60185185]\n",
      "Mean of the neighbors:  [149.95987654 177.90123457 142.60185185]\n"
     ]
    }
   ],
   "source": [
    "# LAB version\n",
    "# Set mouse callback\n",
    "cv.namedWindow(\"Image\")\n",
    "cv.setMouseCallback(\"Image\", onClick_LAB, image)\n",
    "cv.imshow(\"Image\", image)\n",
    "cv.waitKey(0)\n",
    "cv.destroyAllWindows()"
   ]
  },
  {
   "cell_type": "code",
   "execution_count": null,
   "metadata": {},
   "outputs": [],
   "source": [
    "# LAB version considering only AB channels\n",
    "# Set mouse callback\n",
    "cv.namedWindow(\"Image\")\n",
    "cv.setMouseCallback(\"Image\", onClick_AB, image)\n",
    "cv.imshow(\"Image\", image)\n",
    "cv.waitKey(0)\n",
    "cv.destroyAllWindows()"
   ]
  },
  {
   "cell_type": "code",
   "execution_count": null,
   "metadata": {},
   "outputs": [],
   "source": []
  }
 ],
 "metadata": {
  "kernelspec": {
   "display_name": "Python 3",
   "language": "python",
   "name": "python3"
  },
  "language_info": {
   "codemirror_mode": {
    "name": "ipython",
    "version": 3
   },
   "file_extension": ".py",
   "mimetype": "text/x-python",
   "name": "python",
   "nbconvert_exporter": "python",
   "pygments_lexer": "ipython3",
   "version": "3.11.0"
  }
 },
 "nbformat": 4,
 "nbformat_minor": 4
}
